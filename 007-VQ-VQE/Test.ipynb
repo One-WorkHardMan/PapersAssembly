{
 "cells": [
  {
   "cell_type": "code",
   "execution_count": 8,
   "outputs": [
    {
     "ename": "ImportError",
     "evalue": "\nStableDiffusionPipeline requires the transformers library but it was not found in your environment. You can install it with pip: `pip\ninstall transformers`\n",
     "output_type": "error",
     "traceback": [
      "\u001B[1;31m---------------------------------------------------------------------------\u001B[0m",
      "\u001B[1;31mImportError\u001B[0m                               Traceback (most recent call last)",
      "Cell \u001B[1;32mIn[8], line 5\u001B[0m\n\u001B[0;32m      2\u001B[0m \u001B[38;5;28;01mimport\u001B[39;00m \u001B[38;5;21;01mtorch\u001B[39;00m\n\u001B[0;32m      4\u001B[0m model_id \u001B[38;5;241m=\u001B[39m \u001B[38;5;124m\"\u001B[39m\u001B[38;5;124mrunwayml/stable-diffusion-v1-5\u001B[39m\u001B[38;5;124m\"\u001B[39m\n\u001B[1;32m----> 5\u001B[0m pipe \u001B[38;5;241m=\u001B[39m \u001B[43mStableDiffusionPipeline\u001B[49m\u001B[38;5;241;43m.\u001B[39;49m\u001B[43mfrom_pretrained\u001B[49m\u001B[43m(\u001B[49m\u001B[43mmodel_id\u001B[49m\u001B[43m,\u001B[49m\u001B[43m \u001B[49m\u001B[43mtorch_dtype\u001B[49m\u001B[38;5;241;43m=\u001B[39;49m\u001B[43mtorch\u001B[49m\u001B[38;5;241;43m.\u001B[39;49m\u001B[43mfloat16\u001B[49m\u001B[43m)\u001B[49m\n\u001B[0;32m      6\u001B[0m pipe \u001B[38;5;241m=\u001B[39m pipe\u001B[38;5;241m.\u001B[39mto(\u001B[38;5;124m\"\u001B[39m\u001B[38;5;124mcuda\u001B[39m\u001B[38;5;124m\"\u001B[39m)\n\u001B[0;32m      8\u001B[0m prompt \u001B[38;5;241m=\u001B[39m \u001B[38;5;124m\"\u001B[39m\u001B[38;5;124ma photo of an astronaut riding a horse on mars\u001B[39m\u001B[38;5;124m\"\u001B[39m\n",
      "File \u001B[1;32m~\\.conda\\envs\\pytorch\\lib\\site-packages\\diffusers\\utils\\dummy_torch_and_transformers_objects.py:377\u001B[0m, in \u001B[0;36mStableDiffusionPipeline.from_pretrained\u001B[1;34m(cls, *args, **kwargs)\u001B[0m\n\u001B[0;32m    375\u001B[0m \u001B[38;5;129m@classmethod\u001B[39m\n\u001B[0;32m    376\u001B[0m \u001B[38;5;28;01mdef\u001B[39;00m \u001B[38;5;21mfrom_pretrained\u001B[39m(\u001B[38;5;28mcls\u001B[39m, \u001B[38;5;241m*\u001B[39margs, \u001B[38;5;241m*\u001B[39m\u001B[38;5;241m*\u001B[39mkwargs):\n\u001B[1;32m--> 377\u001B[0m     \u001B[43mrequires_backends\u001B[49m\u001B[43m(\u001B[49m\u001B[38;5;28;43mcls\u001B[39;49m\u001B[43m,\u001B[49m\u001B[43m \u001B[49m\u001B[43m[\u001B[49m\u001B[38;5;124;43m\"\u001B[39;49m\u001B[38;5;124;43mtorch\u001B[39;49m\u001B[38;5;124;43m\"\u001B[39;49m\u001B[43m,\u001B[49m\u001B[43m \u001B[49m\u001B[38;5;124;43m\"\u001B[39;49m\u001B[38;5;124;43mtransformers\u001B[39;49m\u001B[38;5;124;43m\"\u001B[39;49m\u001B[43m]\u001B[49m\u001B[43m)\u001B[49m\n",
      "File \u001B[1;32m~\\.conda\\envs\\pytorch\\lib\\site-packages\\diffusers\\utils\\import_utils.py:510\u001B[0m, in \u001B[0;36mrequires_backends\u001B[1;34m(obj, backends)\u001B[0m\n\u001B[0;32m    508\u001B[0m failed \u001B[38;5;241m=\u001B[39m [msg\u001B[38;5;241m.\u001B[39mformat(name) \u001B[38;5;28;01mfor\u001B[39;00m available, msg \u001B[38;5;129;01min\u001B[39;00m checks \u001B[38;5;28;01mif\u001B[39;00m \u001B[38;5;129;01mnot\u001B[39;00m available()]\n\u001B[0;32m    509\u001B[0m \u001B[38;5;28;01mif\u001B[39;00m failed:\n\u001B[1;32m--> 510\u001B[0m     \u001B[38;5;28;01mraise\u001B[39;00m \u001B[38;5;167;01mImportError\u001B[39;00m(\u001B[38;5;124m\"\u001B[39m\u001B[38;5;124m\"\u001B[39m\u001B[38;5;241m.\u001B[39mjoin(failed))\n\u001B[0;32m    512\u001B[0m \u001B[38;5;28;01mif\u001B[39;00m name \u001B[38;5;129;01min\u001B[39;00m [\n\u001B[0;32m    513\u001B[0m     \u001B[38;5;124m\"\u001B[39m\u001B[38;5;124mVersatileDiffusionTextToImagePipeline\u001B[39m\u001B[38;5;124m\"\u001B[39m,\n\u001B[0;32m    514\u001B[0m     \u001B[38;5;124m\"\u001B[39m\u001B[38;5;124mVersatileDiffusionPipeline\u001B[39m\u001B[38;5;124m\"\u001B[39m,\n\u001B[1;32m   (...)\u001B[0m\n\u001B[0;32m    517\u001B[0m     \u001B[38;5;124m\"\u001B[39m\u001B[38;5;124mUnCLIPPipeline\u001B[39m\u001B[38;5;124m\"\u001B[39m,\n\u001B[0;32m    518\u001B[0m ] \u001B[38;5;129;01mand\u001B[39;00m is_transformers_version(\u001B[38;5;124m\"\u001B[39m\u001B[38;5;124m<\u001B[39m\u001B[38;5;124m\"\u001B[39m, \u001B[38;5;124m\"\u001B[39m\u001B[38;5;124m4.25.0\u001B[39m\u001B[38;5;124m\"\u001B[39m):\n\u001B[0;32m    519\u001B[0m     \u001B[38;5;28;01mraise\u001B[39;00m \u001B[38;5;167;01mImportError\u001B[39;00m(\n\u001B[0;32m    520\u001B[0m         \u001B[38;5;124mf\u001B[39m\u001B[38;5;124m\"\u001B[39m\u001B[38;5;124mYou need to install `transformers>=4.25` in order to use \u001B[39m\u001B[38;5;132;01m{\u001B[39;00mname\u001B[38;5;132;01m}\u001B[39;00m\u001B[38;5;124m: \u001B[39m\u001B[38;5;130;01m\\n\u001B[39;00m\u001B[38;5;124m```\u001B[39m\u001B[38;5;130;01m\\n\u001B[39;00m\u001B[38;5;124m pip install\u001B[39m\u001B[38;5;124m\"\u001B[39m\n\u001B[0;32m    521\u001B[0m         \u001B[38;5;124m\"\u001B[39m\u001B[38;5;124m --upgrade transformers \u001B[39m\u001B[38;5;130;01m\\n\u001B[39;00m\u001B[38;5;124m```\u001B[39m\u001B[38;5;124m\"\u001B[39m\n\u001B[0;32m    522\u001B[0m     )\n",
      "\u001B[1;31mImportError\u001B[0m: \nStableDiffusionPipeline requires the transformers library but it was not found in your environment. You can install it with pip: `pip\ninstall transformers`\n"
     ]
    }
   ],
   "source": [
    "from diffusers import StableDiffusionPipeline\n",
    "import torch\n",
    "\n",
    "model_id = \"runwayml/stable-diffusion-v1-5\"\n",
    "pipe = StableDiffusionPipeline.from_pretrained(model_id, torch_dtype=torch.float16)\n",
    "pipe = pipe.to(\"cuda\")\n",
    "\n",
    "prompt = \"a photo of an astronaut riding a horse on mars\"\n",
    "image = pipe(prompt).images[0]\n",
    "\n",
    "image.save(\"astronaut_rides_horse.png\")"
   ],
   "metadata": {
    "collapsed": false,
    "pycharm": {
     "name": "#%%\n"
    }
   }
  },
  {
   "cell_type": "code",
   "execution_count": 2,
   "outputs": [
    {
     "ename": "AttributeError",
     "evalue": "module 'numpy' has no attribute 'ndarray'",
     "output_type": "error",
     "traceback": [
      "\u001B[1;31m---------------------------------------------------------------------------\u001B[0m",
      "\u001B[1;31mAttributeError\u001B[0m                            Traceback (most recent call last)",
      "Cell \u001B[1;32mIn[2], line 1\u001B[0m\n\u001B[1;32m----> 1\u001B[0m \u001B[38;5;28;01mfrom\u001B[39;00m \u001B[38;5;21;01mdiffusers\u001B[39;00m \u001B[38;5;28;01mimport\u001B[39;00m StableDiffusionPipeline, EulerDiscreteScheduler\n\u001B[0;32m      2\u001B[0m \u001B[38;5;28;01mimport\u001B[39;00m \u001B[38;5;21;01mtorch\u001B[39;00m\n\u001B[0;32m      4\u001B[0m \u001B[38;5;66;03m# model_id = \"stabilityai/stable-diffusion-2-base\"\u001B[39;00m\n\u001B[0;32m      5\u001B[0m \n\u001B[0;32m      6\u001B[0m \u001B[38;5;66;03m# Use the Euler scheduler here instead\u001B[39;00m\n",
      "File \u001B[1;32m~\\.conda\\envs\\pytorch\\lib\\site-packages\\diffusers\\__init__.py:3\u001B[0m\n\u001B[0;32m      1\u001B[0m __version__ \u001B[38;5;241m=\u001B[39m \u001B[38;5;124m\"\u001B[39m\u001B[38;5;124m0.16.1\u001B[39m\u001B[38;5;124m\"\u001B[39m\n\u001B[1;32m----> 3\u001B[0m \u001B[38;5;28;01mfrom\u001B[39;00m \u001B[38;5;21;01m.\u001B[39;00m\u001B[38;5;21;01mconfiguration_utils\u001B[39;00m \u001B[38;5;28;01mimport\u001B[39;00m ConfigMixin\n\u001B[0;32m      4\u001B[0m \u001B[38;5;28;01mfrom\u001B[39;00m \u001B[38;5;21;01m.\u001B[39;00m\u001B[38;5;21;01mutils\u001B[39;00m \u001B[38;5;28;01mimport\u001B[39;00m (\n\u001B[0;32m      5\u001B[0m     OptionalDependencyNotAvailable,\n\u001B[0;32m      6\u001B[0m     is_flax_available,\n\u001B[1;32m   (...)\u001B[0m\n\u001B[0;32m     18\u001B[0m     logging,\n\u001B[0;32m     19\u001B[0m )\n\u001B[0;32m     22\u001B[0m \u001B[38;5;28;01mtry\u001B[39;00m:\n",
      "File \u001B[1;32m~\\.conda\\envs\\pytorch\\lib\\site-packages\\diffusers\\configuration_utils.py:34\u001B[0m\n\u001B[0;32m     31\u001B[0m \u001B[38;5;28;01mfrom\u001B[39;00m \u001B[38;5;21;01mrequests\u001B[39;00m \u001B[38;5;28;01mimport\u001B[39;00m HTTPError\n\u001B[0;32m     33\u001B[0m \u001B[38;5;28;01mfrom\u001B[39;00m \u001B[38;5;21;01m.\u001B[39;00m \u001B[38;5;28;01mimport\u001B[39;00m __version__\n\u001B[1;32m---> 34\u001B[0m \u001B[38;5;28;01mfrom\u001B[39;00m \u001B[38;5;21;01m.\u001B[39;00m\u001B[38;5;21;01mutils\u001B[39;00m \u001B[38;5;28;01mimport\u001B[39;00m (\n\u001B[0;32m     35\u001B[0m     DIFFUSERS_CACHE,\n\u001B[0;32m     36\u001B[0m     HUGGINGFACE_CO_RESOLVE_ENDPOINT,\n\u001B[0;32m     37\u001B[0m     DummyObject,\n\u001B[0;32m     38\u001B[0m     deprecate,\n\u001B[0;32m     39\u001B[0m     extract_commit_hash,\n\u001B[0;32m     40\u001B[0m     http_user_agent,\n\u001B[0;32m     41\u001B[0m     logging,\n\u001B[0;32m     42\u001B[0m )\n\u001B[0;32m     45\u001B[0m logger \u001B[38;5;241m=\u001B[39m logging\u001B[38;5;241m.\u001B[39mget_logger(\u001B[38;5;18m__name__\u001B[39m)\n\u001B[0;32m     47\u001B[0m _re_configuration_file \u001B[38;5;241m=\u001B[39m re\u001B[38;5;241m.\u001B[39mcompile(\u001B[38;5;124mr\u001B[39m\u001B[38;5;124m\"\u001B[39m\u001B[38;5;124mconfig\u001B[39m\u001B[38;5;124m\\\u001B[39m\u001B[38;5;124m.(.*)\u001B[39m\u001B[38;5;124m\\\u001B[39m\u001B[38;5;124m.json\u001B[39m\u001B[38;5;124m\"\u001B[39m)\n",
      "File \u001B[1;32m~\\.conda\\envs\\pytorch\\lib\\site-packages\\diffusers\\utils\\__init__.py:87\u001B[0m\n\u001B[0;32m     83\u001B[0m \u001B[38;5;28;01mfrom\u001B[39;00m \u001B[38;5;21;01m.\u001B[39;00m\u001B[38;5;21;01mtorch_utils\u001B[39;00m \u001B[38;5;28;01mimport\u001B[39;00m is_compiled_module, randn_tensor\n\u001B[0;32m     86\u001B[0m \u001B[38;5;28;01mif\u001B[39;00m is_torch_available():\n\u001B[1;32m---> 87\u001B[0m     \u001B[38;5;28;01mfrom\u001B[39;00m \u001B[38;5;21;01m.\u001B[39;00m\u001B[38;5;21;01mtesting_utils\u001B[39;00m \u001B[38;5;28;01mimport\u001B[39;00m (\n\u001B[0;32m     88\u001B[0m         floats_tensor,\n\u001B[0;32m     89\u001B[0m         load_hf_numpy,\n\u001B[0;32m     90\u001B[0m         load_image,\n\u001B[0;32m     91\u001B[0m         load_numpy,\n\u001B[0;32m     92\u001B[0m         load_pt,\n\u001B[0;32m     93\u001B[0m         nightly,\n\u001B[0;32m     94\u001B[0m         parse_flag_from_env,\n\u001B[0;32m     95\u001B[0m         print_tensor_test,\n\u001B[0;32m     96\u001B[0m         require_torch_2,\n\u001B[0;32m     97\u001B[0m         require_torch_gpu,\n\u001B[0;32m     98\u001B[0m         skip_mps,\n\u001B[0;32m     99\u001B[0m         slow,\n\u001B[0;32m    100\u001B[0m         torch_all_close,\n\u001B[0;32m    101\u001B[0m         torch_device,\n\u001B[0;32m    102\u001B[0m     )\n\u001B[0;32m    104\u001B[0m \u001B[38;5;28;01mfrom\u001B[39;00m \u001B[38;5;21;01m.\u001B[39;00m\u001B[38;5;21;01mtesting_utils\u001B[39;00m \u001B[38;5;28;01mimport\u001B[39;00m export_to_video\n\u001B[0;32m    107\u001B[0m logger \u001B[38;5;241m=\u001B[39m get_logger(\u001B[38;5;18m__name__\u001B[39m)\n",
      "File \u001B[1;32m~\\.conda\\envs\\pytorch\\lib\\site-packages\\diffusers\\utils\\testing_utils.py:219\u001B[0m\n\u001B[0;32m    213\u001B[0m     \u001B[38;5;124;03m\"\"\"\u001B[39;00m\n\u001B[0;32m    214\u001B[0m \u001B[38;5;124;03m    Decorator marking a test that requires note_seq. These tests are skipped when note_seq isn't installed.\u001B[39;00m\n\u001B[0;32m    215\u001B[0m \u001B[38;5;124;03m    \"\"\"\u001B[39;00m\n\u001B[0;32m    216\u001B[0m     \u001B[38;5;28;01mreturn\u001B[39;00m unittest\u001B[38;5;241m.\u001B[39mskipUnless(is_note_seq_available(), \u001B[38;5;124m\"\u001B[39m\u001B[38;5;124mtest requires note_seq\u001B[39m\u001B[38;5;124m\"\u001B[39m)(test_case)\n\u001B[1;32m--> 219\u001B[0m \u001B[38;5;28;01mdef\u001B[39;00m \u001B[38;5;21mload_numpy\u001B[39m(arry: Union[\u001B[38;5;28mstr\u001B[39m, \u001B[43mnp\u001B[49m\u001B[38;5;241;43m.\u001B[39;49m\u001B[43mndarray\u001B[49m], local_path: Optional[\u001B[38;5;28mstr\u001B[39m] \u001B[38;5;241m=\u001B[39m \u001B[38;5;28;01mNone\u001B[39;00m) \u001B[38;5;241m-\u001B[39m\u001B[38;5;241m>\u001B[39m np\u001B[38;5;241m.\u001B[39mndarray:\n\u001B[0;32m    220\u001B[0m     \u001B[38;5;28;01mif\u001B[39;00m \u001B[38;5;28misinstance\u001B[39m(arry, \u001B[38;5;28mstr\u001B[39m):\n\u001B[0;32m    221\u001B[0m         \u001B[38;5;66;03m# local_path = \"/home/patrick_huggingface_co/\"\u001B[39;00m\n\u001B[0;32m    222\u001B[0m         \u001B[38;5;28;01mif\u001B[39;00m local_path \u001B[38;5;129;01mis\u001B[39;00m \u001B[38;5;129;01mnot\u001B[39;00m \u001B[38;5;28;01mNone\u001B[39;00m:\n\u001B[0;32m    223\u001B[0m             \u001B[38;5;66;03m# local_path can be passed to correct images of tests\u001B[39;00m\n",
      "\u001B[1;31mAttributeError\u001B[0m: module 'numpy' has no attribute 'ndarray'"
     ]
    }
   ],
   "source": [
    "from diffusers import StableDiffusionPipeline, EulerDiscreteScheduler\n",
    "import torch\n",
    "\n",
    "# model_id = \"stabilityai/stable-diffusion-2-base\"\n",
    "\n",
    "# Use the Euler scheduler here instead\n",
    "scheduler = EulerDiscreteScheduler.from_pretrained(\"stabilityai/stable-diffusion-2-base\", subfolder=\"scheduler\")\n",
    "pipe = StableDiffusionPipeline.from_pretrained(\"stabilityai/stable-diffusion-2-base\", scheduler=scheduler, torch_dtype=torch.float16)\n",
    "pipe = pipe.to(\"cuda\")\n",
    "\n",
    "prompt = \"a photo of an astronaut riding a horse on mars\"\n",
    "image = pipe(prompt).images[0]\n",
    "\n",
    "image.save(\"astronaut_rides_horse.png\")"
   ],
   "metadata": {
    "collapsed": false,
    "pycharm": {
     "name": "#%%\n"
    }
   }
  },
  {
   "cell_type": "code",
   "execution_count": null,
   "outputs": [],
   "source": [
    "\n",
    "\n"
   ],
   "metadata": {
    "collapsed": false,
    "pycharm": {
     "name": "#%%\n"
    }
   }
  },
  {
   "cell_type": "markdown",
   "source": [],
   "metadata": {
    "collapsed": false,
    "pycharm": {
     "name": "#%% md\n"
    }
   }
  }
 ],
 "metadata": {
  "kernelspec": {
   "display_name": "Python 3",
   "language": "python",
   "name": "python3"
  },
  "language_info": {
   "codemirror_mode": {
    "name": "ipython",
    "version": 2
   },
   "file_extension": ".py",
   "mimetype": "text/x-python",
   "name": "python",
   "nbconvert_exporter": "python",
   "pygments_lexer": "ipython2",
   "version": "2.7.6"
  }
 },
 "nbformat": 4,
 "nbformat_minor": 0
}